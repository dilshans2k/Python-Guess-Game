{
 "cells": [
  {
   "cell_type": "code",
   "execution_count": null,
   "metadata": {
    "scrolled": true
   },
   "outputs": [
    {
     "name": "stdout",
     "output_type": "stream",
     "text": [
      "Welcome to the Guess Game\n",
      "Enter a number from 1 to 100\n",
      "If your guess is in the ball park of 10 of the original number, Warm will be printed else Cold\n",
      "If your next guess is even closer to the original number than your previous guess, Warmer will be printed else Colder\n"
     ]
    }
   ],
   "source": [
    "from random import randint\n",
    "print('Welcome to the Guess Game')\n",
    "print(\"Enter a number from 1 to 100\")\n",
    "print(\"If your guess is in the ball park of 10 of the original number, Warm will be printed else Cold\")\n",
    "print(\"If your next guess is even closer to the original number than your previous guess, Warmer will be printed else Colder\")\n",
    "\n",
    "list1 = [0]\n",
    "count = 1\n",
    "from random import randint\n",
    "rand = randint(1,100)\n",
    "while True:\n",
    "    user_input=int(input('Enter a number between 1 and 100 \\n'))\n",
    "    list1.append(user_input)\n",
    "    if user_input < 1 or user_input > 100:\n",
    "        print('OUT OF BOUNDS! Please try again: ')\n",
    "        continue\n",
    "    if user_input==rand:\n",
    "        print(f'Congrats you guessed the number in {count} tries')\n",
    "        break\n",
    "    if list1[-2]: \n",
    "        if abs(user_input-rand)<abs(rand-list1[-2]):\n",
    "            print('Warmer')\n",
    "        else:\n",
    "            print('Colder')\n",
    "    else:\n",
    "        if abs(user_input-rand) <= 10:\n",
    "            print('WARM')\n",
    "        else:\n",
    "            print('Cold')\n",
    "    count=count+1"
   ]
  },
  {
   "cell_type": "code",
   "execution_count": null,
   "metadata": {},
   "outputs": [],
   "source": []
  }
 ],
 "metadata": {
  "kernelspec": {
   "display_name": "Python 3",
   "language": "python",
   "name": "python3"
  },
  "language_info": {
   "codemirror_mode": {
    "name": "ipython",
    "version": 3
   },
   "file_extension": ".py",
   "mimetype": "text/x-python",
   "name": "python",
   "nbconvert_exporter": "python",
   "pygments_lexer": "ipython3",
   "version": "3.7.6"
  }
 },
 "nbformat": 4,
 "nbformat_minor": 2
}
